{
 "cells": [
  {
   "cell_type": "code",
   "execution_count": 12,
   "id": "01ee8bcf",
   "metadata": {},
   "outputs": [
    {
     "name": "stdout",
     "output_type": "stream",
     "text": [
      "Collecting nanoid\n",
      "  Downloading nanoid-2.0.0-py3-none-any.whl (5.8 kB)\n",
      "Installing collected packages: nanoid\n",
      "Successfully installed nanoid-2.0.0\n"
     ]
    }
   ],
   "source": [
    "# Install components\n",
    "\n",
    "!pip install -q pyshorteners --upgrade\n",
    "!pip install -q short_url --upgrade\n",
    "!pip install -q nanoid"
   ]
  },
  {
   "cell_type": "code",
   "execution_count": 4,
   "id": "b30be4e3",
   "metadata": {},
   "outputs": [],
   "source": [
    "import math as ma\n",
    "def convert_size(size_bytes):\n",
    "   if size_bytes == 0:\n",
    "       return \"0B\"\n",
    "   size_name = (\"B\", \"KB\", \"MB\", \"GB\", \"TB\", \"PB\", \"EB\", \"ZB\", \"YB\")\n",
    "   i = int(ma.floor(ma.log(size_bytes, 1024)))\n",
    "   p = ma.pow(1024, i)\n",
    "   s = round(size_bytes / p, 2)\n",
    "   return \"%s %s\" % (s, size_name[i])"
   ]
  },
  {
   "cell_type": "code",
   "execution_count": 11,
   "id": "4e53951a",
   "metadata": {},
   "outputs": [
    {
     "name": "stdout",
     "output_type": "stream",
     "text": [
      "max url to save: 68719476736\n",
      "Save url per Months: 150000000\n",
      "Save url per Hour: 205479\n",
      "when collisions are generated every: 334434.7867818666 months\n",
      "Available URL -68569476736\n",
      "Long Url Size: 466.0 B\n",
      "Short Url Size: 20.0 B\n",
      "Max size to Save: 30.38 TB\n"
     ]
    }
   ],
   "source": [
    "\n",
    "import math as ma\n",
    "# Calculo de digitos\n",
    "request_per_second = 50000000\n",
    "url_create_per_month = request_per_second*3\n",
    "url_create_per_hour = url_create_per_month/730\n",
    "size_short_url = 6\n",
    "exadecimal = 64\n",
    "cant_max_url = pow(exadecimal, size_short_url)\n",
    "collisions = cant_max_url/url_create_per_hour\n",
    "\n",
    "print(\"max url to save:\", cant_max_url)\n",
    "print(\"Save url per Months:\", url_create_per_month)\n",
    "print(\"Save url per Hour:\", int(url_create_per_hour))\n",
    "\n",
    "print(\"when collisions are generated every:\", collisions, \"months\")\n",
    "print(\"Available URL\", url_create_per_month-cant_max_url)\n",
    "\n",
    "\n",
    "# Calculo de bytes\n",
    "sample_long_url = \"https://www.mercadolibre.cl/taladro-atornillador-inalambrico-de-13mm-bosch-gsr-180-li-18v-2-baterias-de-2ah-con-maletin-de-transporte-127v/p/MLC18958803?pdp_filters=item_id:MLC1398871124#reco_item_pos=1&reco_backend=machinalis-pdp-pads-brothers&reco_backend_type=low_level&reco_client=pdp-pads&reco_id=1e21b3e9-ebaf-4494-b335-46563dd1b16d&is_advertising=true&ad_domain=PDPDESKTOP_RECOMMENDED&ad_position=2&ad_click_id=MmMzMTlmN2UtMjNkZi00NDNkLTg0MDgtNzIwMTc5NDQyYzI2\"\n",
    "sample_short_url = \"https://me.li/XXYYZZ\"\n",
    "long_url_bytes = len(sample_long_url.encode('utf-8'))\n",
    "short_url_bytes = len(sample_short_url.encode('utf-8'))\n",
    "\n",
    "max_bytes = (long_url_bytes+short_url_bytes) * cant_max_url\n",
    "print(\"Long Url Size:\", convert_size(long_url_bytes))\n",
    "print(\"Short Url Size:\", convert_size(short_url_bytes))\n",
    "\n",
    "print(\"Max size to Save:\", convert_size(max_bytes))\n",
    "\n"
   ]
  },
  {
   "cell_type": "code",
   "execution_count": 17,
   "id": "2cdeeb33",
   "metadata": {},
   "outputs": [
    {
     "data": {
      "text/plain": [
       "'&msp2r'"
      ]
     },
     "execution_count": 17,
     "metadata": {},
     "output_type": "execute_result"
    }
   ],
   "source": [
    "# Short url with Nano ID\n",
    "# https://github.com/puyuan/py-nanoid \n",
    "# https://github.com/ai/nanoid#readme\n",
    "# Collision https://zelark.github.io/nano-id-cc/\n",
    "\n",
    "from nanoid import generate\n",
    "\n",
    "generate(size=6) # => \"IRFa-VaY2b\"\n"
   ]
  }
 ],
 "metadata": {
  "hide_input": false,
  "kernelspec": {
   "display_name": "Python 3 (ipykernel)",
   "language": "python",
   "name": "python3"
  },
  "language_info": {
   "codemirror_mode": {
    "name": "ipython",
    "version": 3
   },
   "file_extension": ".py",
   "mimetype": "text/x-python",
   "name": "python",
   "nbconvert_exporter": "python",
   "pygments_lexer": "ipython3",
   "version": "3.9.7"
  },
  "toc": {
   "base_numbering": 1,
   "nav_menu": {},
   "number_sections": true,
   "sideBar": true,
   "skip_h1_title": false,
   "title_cell": "Table of Contents",
   "title_sidebar": "Contents",
   "toc_cell": false,
   "toc_position": {},
   "toc_section_display": true,
   "toc_window_display": false
  },
  "vscode": {
   "interpreter": {
    "hash": "56969a26cf17aaf794f16ec70fc7c1865446288f15e19ba67f60ac7876d9577d"
   }
  }
 },
 "nbformat": 4,
 "nbformat_minor": 5
}
