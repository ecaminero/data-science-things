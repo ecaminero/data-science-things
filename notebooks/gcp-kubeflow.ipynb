{
 "cells": [
  {
   "attachments": {},
   "cell_type": "markdown",
   "id": "33abccfd",
   "metadata": {},
   "source": [
    "# Sample kubeflow pipeline"
   ]
  },
  {
   "cell_type": "code",
   "execution_count": 64,
   "id": "cea4d6ed",
   "metadata": {},
   "outputs": [
    {
     "name": "stdout",
     "output_type": "stream",
     "text": [
      "\n",
      "\u001b[1m[\u001b[0m\u001b[34;49mnotice\u001b[0m\u001b[1;39;49m]\u001b[0m\u001b[39;49m A new release of pip is available: \u001b[0m\u001b[31;49m23.0\u001b[0m\u001b[39;49m -> \u001b[0m\u001b[32;49m23.0.1\u001b[0m\n",
      "\u001b[1m[\u001b[0m\u001b[34;49mnotice\u001b[0m\u001b[1;39;49m]\u001b[0m\u001b[39;49m To update, run: \u001b[0m\u001b[32;49mpip install --upgrade pip\u001b[0m\n",
      "\n",
      "\u001b[1m[\u001b[0m\u001b[34;49mnotice\u001b[0m\u001b[1;39;49m]\u001b[0m\u001b[39;49m A new release of pip is available: \u001b[0m\u001b[31;49m23.0\u001b[0m\u001b[39;49m -> \u001b[0m\u001b[32;49m23.0.1\u001b[0m\n",
      "\u001b[1m[\u001b[0m\u001b[34;49mnotice\u001b[0m\u001b[1;39;49m]\u001b[0m\u001b[39;49m To update, run: \u001b[0m\u001b[32;49mpip install --upgrade pip\u001b[0m\n"
     ]
    }
   ],
   "source": [
    "# Install components\n",
    "\n",
    "!pip3 install -q google-cloud-aiplatform\n",
    "!pip3 install -q  kfp google-cloud-pipeline-components"
   ]
  },
  {
   "cell_type": "code",
   "execution_count": null,
   "id": "3ade32a3",
   "metadata": {},
   "outputs": [],
   "source": [
    "# After installing these packages you'll need to restart the kernel\n",
    "import os\n",
    "if not os.getenv(\"IS_TESTING\"):\n",
    "    # Automatically restart kernel after installs\n",
    "    import IPython\n",
    "    app = IPython.Application.instance()\n",
    "    app.kernel.do_shutdown(True)"
   ]
  },
  {
   "cell_type": "code",
   "execution_count": null,
   "id": "66d53d16",
   "metadata": {},
   "outputs": [],
   "source": [
    "# Finally, check that you have correctly installed the packages. The KFP SDK version\n",
    "!python3 -c \"import kfp; print('KFP SDK version: {}'.format(kfp.__version__))\"\n",
    "!python3 -c \"import google_cloud_pipeline_components; print('google_cloud_pipeline_components version: {}'.format(google_cloud_pipeline_components.__version__))\""
   ]
  },
  {
   "cell_type": "code",
   "execution_count": null,
   "id": "28e078eb",
   "metadata": {},
   "outputs": [],
   "source": [
    "# Step 2: Set your project ID and bucket\n",
    "PROJECT_ID = \"[your-project-id]\"\n",
    "# Get your Google Cloud project ID from gcloud\n",
    "if PROJECT_ID == \"\" or PROJECT_ID is None or PROJECT_ID == \"[your-project-id]\":\n",
    "    # Get your GCP project id from gcloud\n",
    "    shell_output = !gcloud config list --format 'value(core.project)' 2>/dev/null\n",
    "    PROJECT_ID = shell_output[0]\n",
    "    print(\"Project ID:\", PROJECT_ID)"
   ]
  },
  {
   "cell_type": "code",
   "execution_count": null,
   "id": "9a4a82b7",
   "metadata": {},
   "outputs": [],
   "source": [
    "PROJECT_REGION = \"[your-region]\"  # @param {type: \"string\"}\n",
    "if PROJECT_REGION == \"[your-region]\":\n",
    "    PROJECT_REGION = \"us-central1\""
   ]
  },
  {
   "cell_type": "code",
   "execution_count": null,
   "id": "5d39035d",
   "metadata": {},
   "outputs": [],
   "source": [
    "BUCKET_URI = f\"gs://aip-{PROJECT_ID}-aip\"\n",
    "GENERATE_BUCKET_URI = False  # @param {type:\"boolean\"}\n",
    "\n",
    "\n",
    "if GENERATE_BUCKET_URI:\n",
    "    bucket_name = \"gs://aip-{}\".format(PROJECT_ID)\n",
    "    !gsutil mb -p {PROJECT_ID} -l {REGION} {bucket_name}\n",
    "\n",
    "    # set GCS bucket object TTL to 7 days\n",
    "    !echo '{\"rule\":[{\"action\": {\"type\": \"Delete\"},\"condition\": {\"age\": 7}}]}' > gcs_lifecycle.tmp\n",
    "    !gsutil lifecycle set gcs_lifecycle.tmp {bucket_name}\n",
    "    !rm gcs_lifecycle.tmp\n",
    "\n",
    "    BUCKET_URI = bucket_name\n",
    "    print(f\"changed BUCKET_URI to {BUCKET_URI} due to GENERATE_BUCKET_URI is True\")\n",
    "\n",
    "if BUCKET_URI == \"\" or BUCKET_URI is None or BUCKET_URI == \"gs://[your-bucket-name]\":\n",
    "    BUCKET_URI = f\"gs://aip-{PROJECT_ID}\"\n",
    "BUCKET_URI"
   ]
  },
  {
   "attachments": {},
   "cell_type": "markdown",
   "id": "ef3eaf24",
   "metadata": {},
   "source": [
    "### Import libraries\n"
   ]
  },
  {
   "cell_type": "code",
   "execution_count": null,
   "id": "ebdcaa03",
   "metadata": {},
   "outputs": [],
   "source": [
    "from typing import NamedTuple\n",
    "import kfp\n",
    "from kfp import dsl\n",
    "from kfp.v2 import compiler\n",
    "from kfp.v2.dsl import component"
   ]
  },
  {
   "attachments": {},
   "cell_type": "markdown",
   "id": "8c8fd40d",
   "metadata": {},
   "source": [
    "### Creating your first pipeline\n",
    "Create a short pipeline using the KFP SDK. This pipeline doesn't do anything ML related (don't worry, you'll get there!), this exercise is to teach you:\n",
    "\n",
    "How to create custom components in the KFP SDK\n",
    "How to run and monitor a pipeline in Vertex Pipelines\n",
    "You'll create a pipeline that prints out a sentence using two outputs: a product name and an emoji description. This pipeline will consist of three components:\n",
    "\n",
    "- product_name: This component will take a product name as input, and return that string as output.\n",
    "\n",
    "- emoji: This component will take the text description of an emoji and convert it to an emoji. For example, the text code for ✨ is \"sparkles\". This component uses an emoji library to show you how to manage external dependencies in your pipeline.\n",
    "\n",
    "- build_sentence: This final component will consume the output of the previous two to build a sentence that uses the emoji. For example, the resulting output might be \"Vertex Pipelines is ✨"
   ]
  },
  {
   "cell_type": "code",
   "execution_count": null,
   "id": "b03b859a",
   "metadata": {},
   "outputs": [],
   "source": [
    "output_file =  \"tmp/first-component.yaml\"\n",
    "@component(base_image=\"python:3.9\", output_component_file=output_file)\n",
    "def product_name(text: str) -> str:\n",
    "    return text\n",
    "\n",
    "product_name_component = kfp.components.load_component_from_file(output_file)"
   ]
  },
  {
   "cell_type": "code",
   "execution_count": null,
   "id": "888f1917",
   "metadata": {},
   "outputs": [],
   "source": [
    "@component(packages_to_install=[\"emoji\"])\n",
    "def emoji( text: str) -> NamedTuple(\"Outputs\", [(\"emoji_text\", str), (\"emoji\", str)]):\n",
    "    import emoji\n",
    "    emoji_text = text\n",
    "    emoji_str = emoji.emojize(':' + emoji_text + ':', language='alias')\n",
    "    print(\"output one: {}; output_two: {}\".format(emoji_text, emoji_str))\n",
    "    return (emoji_text, emoji_str)"
   ]
  },
  {
   "cell_type": "code",
   "execution_count": null,
   "id": "c87e2ae2",
   "metadata": {},
   "outputs": [],
   "source": [
    "@component\n",
    "def build_sentence(product: str, emoji: str, emojitext: str) -> str:\n",
    "    print(\"We completed the pipeline, hooray!\")\n",
    "    end_str = product + \" is \"\n",
    "    if len(emoji) > 0:\n",
    "        end_str += emoji\n",
    "    else:\n",
    "        end_str += emojitext\n",
    "    return(end_str)"
   ]
  },
  {
   "attachments": {},
   "cell_type": "markdown",
   "id": "4d2cb31d",
   "metadata": {},
   "source": [
    "### Putting the components together into a pipeline\n",
    "The component definitions defined above created factory functions that can be used in a pipeline definition to create steps.\n",
    "\n",
    "To set up a pipeline, use the @dsl.pipeline decorator, give the pipeline a name and description, and provide the root path where your pipeline's artifacts should be written. By artifacts, it means any output files generated by your pipeline. This intro pipeline doesn't generate any, but your next pipeline will.\n",
    "\n",
    "In the next block of code you define an intro_pipeline function. This is where you specify the inputs to your initial pipeline steps, and how steps connect to each other:\n",
    "\n",
    "product_task takes a product name as input. Here you're passing \"Vertex Pipelines\" but you can change this to whatever you'd like.\n",
    "\n",
    "emoji_task takes the text code for an emoji as input. You can also change this to whatever you'd like. For example, \"party_face\" refers to the 🥳 emoji. Note that since both this and the product_task component don't have any steps that feed input into them, you manually specify the input for these when you define your pipeline.\n",
    "\n",
    "The last step in the pipeline - consumer_task has three input parameters:\n",
    "\n",
    "The output of product_task. Since this step only produces one output, you can reference it via product_task.output.\n",
    "The emoji output of the emoji_task step. See the emoji component defined above where you named the output parameters.\n",
    "Similarly, the emoji_text named output from the emoji component. In case your pipeline is passed text that doesn't correspond with an emoji, it'll use this text to construct a sentence."
   ]
  },
  {
   "cell_type": "code",
   "execution_count": null,
   "id": "4cf65a18",
   "metadata": {},
   "outputs": [],
   "source": [
    "PIPELINE_ROOT = f\"{BUCKET_URI}/pipeline_root/\"\n",
    "PIPELINE_ROOT"
   ]
  },
  {
   "cell_type": "code",
   "execution_count": null,
   "id": "0b7eb19a",
   "metadata": {},
   "outputs": [],
   "source": [
    "@dsl.pipeline(\n",
    "    name=\"hello-world\",\n",
    "    description=\"An intro pipeline\",\n",
    ")\n",
    "# You can change the `text` and `emoji_str` parameters here to update the pipeline output\n",
    "def pipeline(text: str = \"Vertex Pipelines\", emoji_str: str = \"sparkles\"):\n",
    "    product_task = product_name(text)\n",
    "    emoji_task = emoji(emoji_str)\n",
    "    _ = build_sentence(\n",
    "        product_task.output,\n",
    "        emoji_task.outputs[\"emoji\"],\n",
    "        emoji_task.outputs[\"emoji_text\"],\n",
    "    )\n",
    "\n",
    "compiler.Compiler().compile(\n",
    "    pipeline_func=pipeline, \n",
    "    package_path=\"tmp/intro_pipeline_job.json\"\n",
    ")"
   ]
  },
  {
   "cell_type": "code",
   "execution_count": null,
   "id": "2ae7d0ce",
   "metadata": {},
   "outputs": [],
   "source": [
    "import google.cloud.aiplatform as aip\n",
    "# Before initializing, make sure to set the GOOGLE_APPLICATION_CREDENTIALS\n",
    "# environment variable to the file path of your service account.\n",
    "aip.init(project=PROJECT_ID, location=PROJECT_REGION)\n",
    "job = aip.PipelineJob(\n",
    "    display_name=\"intro_pipeline_job\",\n",
    "    template_path=\"tmp/intro_pipeline_job.json\",\n",
    "    pipeline_root=PIPELINE_ROOT,\n",
    ")\n",
    "\n",
    "job.submit()"
   ]
  },
  {
   "cell_type": "markdown",
   "id": "a7a85b42",
   "metadata": {},
   "source": []
  }
 ],
 "metadata": {
  "kernelspec": {
   "display_name": "data-science-research-XyzUro3q-py3.9",
   "language": "python",
   "name": "python3"
  },
  "language_info": {
   "codemirror_mode": {
    "name": "ipython",
    "version": 3
   },
   "file_extension": ".py",
   "mimetype": "text/x-python",
   "name": "python",
   "nbconvert_exporter": "python",
   "pygments_lexer": "ipython3",
   "version": "3.9.7"
  },
  "vscode": {
   "interpreter": {
    "hash": "4d64233ef496e27adda18c9013bba942dfebf360eb2fd79c82dd8d4422c2662f"
   }
  }
 },
 "nbformat": 4,
 "nbformat_minor": 5
}
