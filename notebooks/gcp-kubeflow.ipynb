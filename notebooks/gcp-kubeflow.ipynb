{
 "cells": [
  {
   "attachments": {},
   "cell_type": "markdown",
   "id": "33abccfd",
   "metadata": {},
   "source": [
    "# Sample kubeflow pipeline"
   ]
  },
  {
   "cell_type": "code",
   "execution_count": 4,
   "id": "cea4d6ed",
   "metadata": {},
   "outputs": [
    {
     "name": "stdout",
     "output_type": "stream",
     "text": [
      "Requirement already satisfied: google-cloud-aiplatform in /home/edwin/.cache/pypoetry/virtualenvs/data-science-research-XyzUro3q-py3.9/lib/python3.9/site-packages (1.17.1)\n",
      "Requirement already satisfied: proto-plus<2.0.0dev,>=1.22.0 in /home/edwin/.cache/pypoetry/virtualenvs/data-science-research-XyzUro3q-py3.9/lib/python3.9/site-packages (from google-cloud-aiplatform) (1.22.2)\n",
      "Requirement already satisfied: google-cloud-resource-manager<3.0.0dev,>=1.3.3 in /home/edwin/.cache/pypoetry/virtualenvs/data-science-research-XyzUro3q-py3.9/lib/python3.9/site-packages (from google-cloud-aiplatform) (1.6.1)\n",
      "Requirement already satisfied: protobuf<5.0.0dev,>=3.19.0 in /home/edwin/.cache/pypoetry/virtualenvs/data-science-research-XyzUro3q-py3.9/lib/python3.9/site-packages (from google-cloud-aiplatform) (3.19.4)\n",
      "Requirement already satisfied: google-cloud-bigquery<3.0.0dev,>=1.15.0 in /home/edwin/.cache/pypoetry/virtualenvs/data-science-research-XyzUro3q-py3.9/lib/python3.9/site-packages (from google-cloud-aiplatform) (2.34.4)\n",
      "Requirement already satisfied: google-cloud-storage<3.0.0dev,>=1.32.0 in /home/edwin/.cache/pypoetry/virtualenvs/data-science-research-XyzUro3q-py3.9/lib/python3.9/site-packages (from google-cloud-aiplatform) (2.8.0)\n",
      "Requirement already satisfied: packaging<22.0.0dev,>=14.3 in /home/edwin/.cache/pypoetry/virtualenvs/data-science-research-XyzUro3q-py3.9/lib/python3.9/site-packages (from google-cloud-aiplatform) (20.9)\n",
      "Requirement already satisfied: google-api-core[grpc]!=2.0.*,!=2.1.*,!=2.2.*,!=2.3.*,!=2.4.*,!=2.5.*,!=2.6.*,!=2.7.*,<3.0.0dev,>=1.32.0 in /home/edwin/.cache/pypoetry/virtualenvs/data-science-research-XyzUro3q-py3.9/lib/python3.9/site-packages (from google-cloud-aiplatform) (1.32.0)\n",
      "Requirement already satisfied: pytz in /home/edwin/.cache/pypoetry/virtualenvs/data-science-research-XyzUro3q-py3.9/lib/python3.9/site-packages (from google-api-core[grpc]!=2.0.*,!=2.1.*,!=2.2.*,!=2.3.*,!=2.4.*,!=2.5.*,!=2.6.*,!=2.7.*,<3.0.0dev,>=1.32.0->google-cloud-aiplatform) (2023.3)\n",
      "Requirement already satisfied: six>=1.13.0 in /home/edwin/.cache/pypoetry/virtualenvs/data-science-research-XyzUro3q-py3.9/lib/python3.9/site-packages (from google-api-core[grpc]!=2.0.*,!=2.1.*,!=2.2.*,!=2.3.*,!=2.4.*,!=2.5.*,!=2.6.*,!=2.7.*,<3.0.0dev,>=1.32.0->google-cloud-aiplatform) (1.16.0)\n",
      "Requirement already satisfied: requests<3.0.0dev,>=2.18.0 in /home/edwin/.cache/pypoetry/virtualenvs/data-science-research-XyzUro3q-py3.9/lib/python3.9/site-packages (from google-api-core[grpc]!=2.0.*,!=2.1.*,!=2.2.*,!=2.3.*,!=2.4.*,!=2.5.*,!=2.6.*,!=2.7.*,<3.0.0dev,>=1.32.0->google-cloud-aiplatform) (2.28.2)\n",
      "Requirement already satisfied: googleapis-common-protos<2.0dev,>=1.6.0 in /home/edwin/.cache/pypoetry/virtualenvs/data-science-research-XyzUro3q-py3.9/lib/python3.9/site-packages (from google-api-core[grpc]!=2.0.*,!=2.1.*,!=2.2.*,!=2.3.*,!=2.4.*,!=2.5.*,!=2.6.*,!=2.7.*,<3.0.0dev,>=1.32.0->google-cloud-aiplatform) (1.56.4)\n",
      "Requirement already satisfied: setuptools>=40.3.0 in /home/edwin/.cache/pypoetry/virtualenvs/data-science-research-XyzUro3q-py3.9/lib/python3.9/site-packages (from google-api-core[grpc]!=2.0.*,!=2.1.*,!=2.2.*,!=2.3.*,!=2.4.*,!=2.5.*,!=2.6.*,!=2.7.*,<3.0.0dev,>=1.32.0->google-cloud-aiplatform) (67.6.1)\n",
      "Requirement already satisfied: google-auth<2.0dev,>=1.25.0 in /home/edwin/.cache/pypoetry/virtualenvs/data-science-research-XyzUro3q-py3.9/lib/python3.9/site-packages (from google-api-core[grpc]!=2.0.*,!=2.1.*,!=2.2.*,!=2.3.*,!=2.4.*,!=2.5.*,!=2.6.*,!=2.7.*,<3.0.0dev,>=1.32.0->google-cloud-aiplatform) (1.35.0)\n",
      "Requirement already satisfied: grpcio<2.0dev,>=1.29.0 in /home/edwin/.cache/pypoetry/virtualenvs/data-science-research-XyzUro3q-py3.9/lib/python3.9/site-packages (from google-api-core[grpc]!=2.0.*,!=2.1.*,!=2.2.*,!=2.3.*,!=2.4.*,!=2.5.*,!=2.6.*,!=2.7.*,<3.0.0dev,>=1.32.0->google-cloud-aiplatform) (1.53.0)\n",
      "Requirement already satisfied: google-cloud-core<3.0.0dev,>=1.4.1 in /home/edwin/.cache/pypoetry/virtualenvs/data-science-research-XyzUro3q-py3.9/lib/python3.9/site-packages (from google-cloud-bigquery<3.0.0dev,>=1.15.0->google-cloud-aiplatform) (2.3.2)\n",
      "Requirement already satisfied: python-dateutil<3.0dev,>=2.7.2 in /home/edwin/.cache/pypoetry/virtualenvs/data-science-research-XyzUro3q-py3.9/lib/python3.9/site-packages (from google-cloud-bigquery<3.0.0dev,>=1.15.0->google-cloud-aiplatform) (2.8.2)\n",
      "Requirement already satisfied: google-resumable-media<3.0dev,>=0.6.0 in /home/edwin/.cache/pypoetry/virtualenvs/data-science-research-XyzUro3q-py3.9/lib/python3.9/site-packages (from google-cloud-bigquery<3.0.0dev,>=1.15.0->google-cloud-aiplatform) (2.4.1)\n",
      "Requirement already satisfied: grpc-google-iam-v1<1.0.0dev,>=0.12.4 in /home/edwin/.cache/pypoetry/virtualenvs/data-science-research-XyzUro3q-py3.9/lib/python3.9/site-packages (from google-cloud-resource-manager<3.0.0dev,>=1.3.3->google-cloud-aiplatform) (0.12.4)\n",
      "Requirement already satisfied: pyparsing>=2.0.2 in /home/edwin/.cache/pypoetry/virtualenvs/data-science-research-XyzUro3q-py3.9/lib/python3.9/site-packages (from packaging<22.0.0dev,>=14.3->google-cloud-aiplatform) (3.0.9)\n",
      "Requirement already satisfied: cachetools<5.0,>=2.0.0 in /home/edwin/.cache/pypoetry/virtualenvs/data-science-research-XyzUro3q-py3.9/lib/python3.9/site-packages (from google-auth<2.0dev,>=1.25.0->google-api-core[grpc]!=2.0.*,!=2.1.*,!=2.2.*,!=2.3.*,!=2.4.*,!=2.5.*,!=2.6.*,!=2.7.*,<3.0.0dev,>=1.32.0->google-cloud-aiplatform) (4.2.4)\n",
      "Requirement already satisfied: pyasn1-modules>=0.2.1 in /home/edwin/.cache/pypoetry/virtualenvs/data-science-research-XyzUro3q-py3.9/lib/python3.9/site-packages (from google-auth<2.0dev,>=1.25.0->google-api-core[grpc]!=2.0.*,!=2.1.*,!=2.2.*,!=2.3.*,!=2.4.*,!=2.5.*,!=2.6.*,!=2.7.*,<3.0.0dev,>=1.32.0->google-cloud-aiplatform) (0.2.8)\n",
      "Requirement already satisfied: rsa<5,>=3.1.4 in /home/edwin/.cache/pypoetry/virtualenvs/data-science-research-XyzUro3q-py3.9/lib/python3.9/site-packages (from google-auth<2.0dev,>=1.25.0->google-api-core[grpc]!=2.0.*,!=2.1.*,!=2.2.*,!=2.3.*,!=2.4.*,!=2.5.*,!=2.6.*,!=2.7.*,<3.0.0dev,>=1.32.0->google-cloud-aiplatform) (4.9)\n",
      "Requirement already satisfied: google-crc32c<2.0dev,>=1.0 in /home/edwin/.cache/pypoetry/virtualenvs/data-science-research-XyzUro3q-py3.9/lib/python3.9/site-packages (from google-resumable-media<3.0dev,>=0.6.0->google-cloud-bigquery<3.0.0dev,>=1.15.0->google-cloud-aiplatform) (1.5.0)\n",
      "Requirement already satisfied: certifi>=2017.4.17 in /home/edwin/.cache/pypoetry/virtualenvs/data-science-research-XyzUro3q-py3.9/lib/python3.9/site-packages (from requests<3.0.0dev,>=2.18.0->google-api-core[grpc]!=2.0.*,!=2.1.*,!=2.2.*,!=2.3.*,!=2.4.*,!=2.5.*,!=2.6.*,!=2.7.*,<3.0.0dev,>=1.32.0->google-cloud-aiplatform) (2022.12.7)\n",
      "Requirement already satisfied: charset-normalizer<4,>=2 in /home/edwin/.cache/pypoetry/virtualenvs/data-science-research-XyzUro3q-py3.9/lib/python3.9/site-packages (from requests<3.0.0dev,>=2.18.0->google-api-core[grpc]!=2.0.*,!=2.1.*,!=2.2.*,!=2.3.*,!=2.4.*,!=2.5.*,!=2.6.*,!=2.7.*,<3.0.0dev,>=1.32.0->google-cloud-aiplatform) (3.1.0)\n",
      "Requirement already satisfied: urllib3<1.27,>=1.21.1 in /home/edwin/.cache/pypoetry/virtualenvs/data-science-research-XyzUro3q-py3.9/lib/python3.9/site-packages (from requests<3.0.0dev,>=2.18.0->google-api-core[grpc]!=2.0.*,!=2.1.*,!=2.2.*,!=2.3.*,!=2.4.*,!=2.5.*,!=2.6.*,!=2.7.*,<3.0.0dev,>=1.32.0->google-cloud-aiplatform) (1.26.15)\n",
      "Requirement already satisfied: idna<4,>=2.5 in /home/edwin/.cache/pypoetry/virtualenvs/data-science-research-XyzUro3q-py3.9/lib/python3.9/site-packages (from requests<3.0.0dev,>=2.18.0->google-api-core[grpc]!=2.0.*,!=2.1.*,!=2.2.*,!=2.3.*,!=2.4.*,!=2.5.*,!=2.6.*,!=2.7.*,<3.0.0dev,>=1.32.0->google-cloud-aiplatform) (3.4)\n",
      "Requirement already satisfied: pyasn1<0.5.0,>=0.4.6 in /home/edwin/.cache/pypoetry/virtualenvs/data-science-research-XyzUro3q-py3.9/lib/python3.9/site-packages (from pyasn1-modules>=0.2.1->google-auth<2.0dev,>=1.25.0->google-api-core[grpc]!=2.0.*,!=2.1.*,!=2.2.*,!=2.3.*,!=2.4.*,!=2.5.*,!=2.6.*,!=2.7.*,<3.0.0dev,>=1.32.0->google-cloud-aiplatform) (0.4.8)\n",
      "\n",
      "\u001b[1m[\u001b[0m\u001b[34;49mnotice\u001b[0m\u001b[1;39;49m]\u001b[0m\u001b[39;49m A new release of pip is available: \u001b[0m\u001b[31;49m23.0\u001b[0m\u001b[39;49m -> \u001b[0m\u001b[32;49m23.0.1\u001b[0m\n",
      "\u001b[1m[\u001b[0m\u001b[34;49mnotice\u001b[0m\u001b[1;39;49m]\u001b[0m\u001b[39;49m To update, run: \u001b[0m\u001b[32;49mpip install --upgrade pip\u001b[0m\n",
      "Collecting kfp\n",
      "  Using cached kfp-1.8.19-py3-none-any.whl\n",
      "Collecting google-cloud-pipeline-components\n",
      "  Using cached google_cloud_pipeline_components-1.0.41-py3-none-any.whl (1.0 MB)\n",
      "Collecting kfp-server-api<2.0.0,>=1.1.2\n",
      "  Using cached kfp_server_api-1.8.5-py3-none-any.whl\n",
      "Requirement already satisfied: google-api-core!=2.0.*,!=2.1.*,!=2.2.*,!=2.3.0,<3.0.0dev,>=1.31.5 in /home/edwin/.cache/pypoetry/virtualenvs/data-science-research-XyzUro3q-py3.9/lib/python3.9/site-packages (from kfp) (1.32.0)\n",
      "Requirement already satisfied: cloudpickle<3,>=2.0.0 in /home/edwin/.cache/pypoetry/virtualenvs/data-science-research-XyzUro3q-py3.9/lib/python3.9/site-packages (from kfp) (2.2.1)\n",
      "Requirement already satisfied: click<9,>=7.1.2 in /home/edwin/.cache/pypoetry/virtualenvs/data-science-research-XyzUro3q-py3.9/lib/python3.9/site-packages (from kfp) (7.1.2)\n",
      "Requirement already satisfied: google-auth<3,>=1.6.1 in /home/edwin/.cache/pypoetry/virtualenvs/data-science-research-XyzUro3q-py3.9/lib/python3.9/site-packages (from kfp) (1.35.0)\n",
      "Requirement already satisfied: kubernetes<20,>=8.0.0 in /home/edwin/.cache/pypoetry/virtualenvs/data-science-research-XyzUro3q-py3.9/lib/python3.9/site-packages (from kfp) (12.0.1)\n",
      "Collecting kfp-pipeline-spec<0.2.0,>=0.1.16\n",
      "  Using cached kfp_pipeline_spec-0.1.16-py3-none-any.whl (19 kB)\n",
      "Requirement already satisfied: jsonschema<5,>=3.0.1 in /home/edwin/.cache/pypoetry/virtualenvs/data-science-research-XyzUro3q-py3.9/lib/python3.9/site-packages (from kfp) (4.17.3)\n",
      "Collecting requests-toolbelt<1,>=0.8.0\n",
      "  Using cached requests_toolbelt-0.10.1-py2.py3-none-any.whl (54 kB)\n",
      "Requirement already satisfied: uritemplate<4,>=3.0.1 in /home/edwin/.cache/pypoetry/virtualenvs/data-science-research-XyzUro3q-py3.9/lib/python3.9/site-packages (from kfp) (3.0.1)\n",
      "Requirement already satisfied: google-cloud-storage<3,>=1.20.0 in /home/edwin/.cache/pypoetry/virtualenvs/data-science-research-XyzUro3q-py3.9/lib/python3.9/site-packages (from kfp) (2.8.0)\n",
      "Requirement already satisfied: protobuf<4,>=3.13.0 in /home/edwin/.cache/pypoetry/virtualenvs/data-science-research-XyzUro3q-py3.9/lib/python3.9/site-packages (from kfp) (3.19.4)\n",
      "Collecting pydantic<2,>=1.8.2\n",
      "  Downloading pydantic-1.10.7-cp39-cp39-manylinux_2_17_x86_64.manylinux2014_x86_64.whl (3.2 MB)\n",
      "\u001b[2K     \u001b[38;2;114;156;31m━━━━━━━━━━━━━━━━━━━━━━━━━━━━━━━━━━━━━━━━\u001b[0m \u001b[32m3.2/3.2 MB\u001b[0m \u001b[31m11.0 MB/s\u001b[0m eta \u001b[36m0:00:00\u001b[0mm eta \u001b[36m0:00:01\u001b[0m[36m0:00:01\u001b[0m\n",
      "\u001b[?25hCollecting strip-hints<1,>=0.1.8\n",
      "  Using cached strip_hints-0.1.10-py2.py3-none-any.whl\n",
      "Requirement already satisfied: absl-py<2,>=0.9 in /home/edwin/.cache/pypoetry/virtualenvs/data-science-research-XyzUro3q-py3.9/lib/python3.9/site-packages (from kfp) (1.4.0)\n",
      "Requirement already satisfied: PyYAML<6,>=5.3 in /home/edwin/.cache/pypoetry/virtualenvs/data-science-research-XyzUro3q-py3.9/lib/python3.9/site-packages (from kfp) (5.4.1)\n",
      "Requirement already satisfied: google-api-python-client<2,>=1.7.8 in /home/edwin/.cache/pypoetry/virtualenvs/data-science-research-XyzUro3q-py3.9/lib/python3.9/site-packages (from kfp) (1.12.11)\n",
      "Collecting tabulate<1,>=0.8.6\n",
      "  Using cached tabulate-0.9.0-py3-none-any.whl (35 kB)\n",
      "Collecting typer<1.0,>=0.3.2\n",
      "  Using cached typer-0.7.0-py3-none-any.whl (38 kB)\n",
      "Collecting fire<1,>=0.3.1\n",
      "  Using cached fire-0.5.0-py2.py3-none-any.whl\n",
      "Collecting Deprecated<2,>=1.2.7\n",
      "  Using cached Deprecated-1.2.13-py2.py3-none-any.whl (9.6 kB)\n",
      "Collecting docstring-parser<1,>=0.7.3\n",
      "  Using cached docstring_parser-0.15-py3-none-any.whl (36 kB)\n",
      "Requirement already satisfied: googleapis-common-protos<2.0dev,>=1.56.2 in /home/edwin/.cache/pypoetry/virtualenvs/data-science-research-XyzUro3q-py3.9/lib/python3.9/site-packages (from google-cloud-pipeline-components) (1.56.4)\n",
      "Collecting grpcio-status<=1.47.0\n",
      "  Using cached grpcio_status-1.47.0-py3-none-any.whl (10.0 kB)\n",
      "Requirement already satisfied: google-cloud-aiplatform<2,>=1.14.0 in /home/edwin/.cache/pypoetry/virtualenvs/data-science-research-XyzUro3q-py3.9/lib/python3.9/site-packages (from google-cloud-pipeline-components) (1.17.1)\n",
      "Collecting google-cloud-notebooks>=0.4.0\n",
      "  Using cached google_cloud_notebooks-1.6.1-py2.py3-none-any.whl (190 kB)\n",
      "Requirement already satisfied: wrapt<2,>=1.10 in /home/edwin/.cache/pypoetry/virtualenvs/data-science-research-XyzUro3q-py3.9/lib/python3.9/site-packages (from Deprecated<2,>=1.2.7->kfp) (1.14.1)\n",
      "Requirement already satisfied: termcolor in /home/edwin/.cache/pypoetry/virtualenvs/data-science-research-XyzUro3q-py3.9/lib/python3.9/site-packages (from fire<1,>=0.3.1->kfp) (2.2.0)\n",
      "Requirement already satisfied: six in /home/edwin/.cache/pypoetry/virtualenvs/data-science-research-XyzUro3q-py3.9/lib/python3.9/site-packages (from fire<1,>=0.3.1->kfp) (1.16.0)\n",
      "Requirement already satisfied: pytz in /home/edwin/.cache/pypoetry/virtualenvs/data-science-research-XyzUro3q-py3.9/lib/python3.9/site-packages (from google-api-core!=2.0.*,!=2.1.*,!=2.2.*,!=2.3.0,<3.0.0dev,>=1.31.5->kfp) (2023.3)\n",
      "Requirement already satisfied: packaging>=14.3 in /home/edwin/.cache/pypoetry/virtualenvs/data-science-research-XyzUro3q-py3.9/lib/python3.9/site-packages (from google-api-core!=2.0.*,!=2.1.*,!=2.2.*,!=2.3.0,<3.0.0dev,>=1.31.5->kfp) (20.9)\n",
      "Requirement already satisfied: requests<3.0.0dev,>=2.18.0 in /home/edwin/.cache/pypoetry/virtualenvs/data-science-research-XyzUro3q-py3.9/lib/python3.9/site-packages (from google-api-core!=2.0.*,!=2.1.*,!=2.2.*,!=2.3.0,<3.0.0dev,>=1.31.5->kfp) (2.28.2)\n",
      "Requirement already satisfied: setuptools>=40.3.0 in /home/edwin/.cache/pypoetry/virtualenvs/data-science-research-XyzUro3q-py3.9/lib/python3.9/site-packages (from google-api-core!=2.0.*,!=2.1.*,!=2.2.*,!=2.3.0,<3.0.0dev,>=1.31.5->kfp) (67.6.1)\n",
      "Requirement already satisfied: google-auth-httplib2>=0.0.3 in /home/edwin/.cache/pypoetry/virtualenvs/data-science-research-XyzUro3q-py3.9/lib/python3.9/site-packages (from google-api-python-client<2,>=1.7.8->kfp) (0.1.0)\n",
      "Requirement already satisfied: httplib2<1dev,>=0.15.0 in /home/edwin/.cache/pypoetry/virtualenvs/data-science-research-XyzUro3q-py3.9/lib/python3.9/site-packages (from google-api-python-client<2,>=1.7.8->kfp) (0.21.0)\n",
      "Requirement already satisfied: rsa<5,>=3.1.4 in /home/edwin/.cache/pypoetry/virtualenvs/data-science-research-XyzUro3q-py3.9/lib/python3.9/site-packages (from google-auth<3,>=1.6.1->kfp) (4.9)\n",
      "Requirement already satisfied: cachetools<5.0,>=2.0.0 in /home/edwin/.cache/pypoetry/virtualenvs/data-science-research-XyzUro3q-py3.9/lib/python3.9/site-packages (from google-auth<3,>=1.6.1->kfp) (4.2.4)\n",
      "Requirement already satisfied: pyasn1-modules>=0.2.1 in /home/edwin/.cache/pypoetry/virtualenvs/data-science-research-XyzUro3q-py3.9/lib/python3.9/site-packages (from google-auth<3,>=1.6.1->kfp) (0.2.8)\n",
      "Requirement already satisfied: google-cloud-resource-manager<3.0.0dev,>=1.3.3 in /home/edwin/.cache/pypoetry/virtualenvs/data-science-research-XyzUro3q-py3.9/lib/python3.9/site-packages (from google-cloud-aiplatform<2,>=1.14.0->google-cloud-pipeline-components) (1.6.1)\n",
      "Requirement already satisfied: google-cloud-bigquery<3.0.0dev,>=1.15.0 in /home/edwin/.cache/pypoetry/virtualenvs/data-science-research-XyzUro3q-py3.9/lib/python3.9/site-packages (from google-cloud-aiplatform<2,>=1.14.0->google-cloud-pipeline-components) (2.34.4)\n",
      "Requirement already satisfied: proto-plus<2.0.0dev,>=1.22.0 in /home/edwin/.cache/pypoetry/virtualenvs/data-science-research-XyzUro3q-py3.9/lib/python3.9/site-packages (from google-cloud-aiplatform<2,>=1.14.0->google-cloud-pipeline-components) (1.22.2)\n",
      "Collecting google-api-core[grpc]!=2.0.*,!=2.1.*,!=2.2.*,!=2.3.*,!=2.4.*,!=2.5.*,!=2.6.*,!=2.7.*,<3.0.0dev,>=1.32.0\n",
      "  Using cached google_api_core-2.11.0-py3-none-any.whl (120 kB)\n",
      "Collecting protobuf<4,>=3.13.0\n",
      "  Using cached protobuf-3.20.3-cp39-cp39-manylinux_2_5_x86_64.manylinux1_x86_64.whl (1.0 MB)\n",
      "Requirement already satisfied: grpc-google-iam-v1<1.0.0dev,>=0.12.4 in /home/edwin/.cache/pypoetry/virtualenvs/data-science-research-XyzUro3q-py3.9/lib/python3.9/site-packages (from google-cloud-notebooks>=0.4.0->google-cloud-pipeline-components) (0.12.4)\n",
      "Requirement already satisfied: google-cloud-core<3.0dev,>=2.3.0 in /home/edwin/.cache/pypoetry/virtualenvs/data-science-research-XyzUro3q-py3.9/lib/python3.9/site-packages (from google-cloud-storage<3,>=1.20.0->kfp) (2.3.2)\n",
      "Requirement already satisfied: google-resumable-media>=2.3.2 in /home/edwin/.cache/pypoetry/virtualenvs/data-science-research-XyzUro3q-py3.9/lib/python3.9/site-packages (from google-cloud-storage<3,>=1.20.0->kfp) (2.4.1)\n",
      "Requirement already satisfied: grpcio>=1.47.0 in /home/edwin/.cache/pypoetry/virtualenvs/data-science-research-XyzUro3q-py3.9/lib/python3.9/site-packages (from grpcio-status<=1.47.0->google-cloud-pipeline-components) (1.53.0)\n",
      "Requirement already satisfied: attrs>=17.4.0 in /home/edwin/.cache/pypoetry/virtualenvs/data-science-research-XyzUro3q-py3.9/lib/python3.9/site-packages (from jsonschema<5,>=3.0.1->kfp) (21.4.0)\n",
      "Requirement already satisfied: pyrsistent!=0.17.0,!=0.17.1,!=0.17.2,>=0.14.0 in /home/edwin/.cache/pypoetry/virtualenvs/data-science-research-XyzUro3q-py3.9/lib/python3.9/site-packages (from jsonschema<5,>=3.0.1->kfp) (0.19.3)\n",
      "Requirement already satisfied: certifi in /home/edwin/.cache/pypoetry/virtualenvs/data-science-research-XyzUro3q-py3.9/lib/python3.9/site-packages (from kfp-server-api<2.0.0,>=1.1.2->kfp) (2022.12.7)\n",
      "Requirement already satisfied: urllib3>=1.15 in /home/edwin/.cache/pypoetry/virtualenvs/data-science-research-XyzUro3q-py3.9/lib/python3.9/site-packages (from kfp-server-api<2.0.0,>=1.1.2->kfp) (1.26.15)\n",
      "Requirement already satisfied: python-dateutil in /home/edwin/.cache/pypoetry/virtualenvs/data-science-research-XyzUro3q-py3.9/lib/python3.9/site-packages (from kfp-server-api<2.0.0,>=1.1.2->kfp) (2.8.2)\n",
      "Requirement already satisfied: websocket-client!=0.40.0,!=0.41.*,!=0.42.*,>=0.32.0 in /home/edwin/.cache/pypoetry/virtualenvs/data-science-research-XyzUro3q-py3.9/lib/python3.9/site-packages (from kubernetes<20,>=8.0.0->kfp) (1.5.1)\n",
      "Requirement already satisfied: requests-oauthlib in /home/edwin/.cache/pypoetry/virtualenvs/data-science-research-XyzUro3q-py3.9/lib/python3.9/site-packages (from kubernetes<20,>=8.0.0->kfp) (1.3.1)\n",
      "Requirement already satisfied: typing-extensions>=4.2.0 in /home/edwin/.cache/pypoetry/virtualenvs/data-science-research-XyzUro3q-py3.9/lib/python3.9/site-packages (from pydantic<2,>=1.8.2->kfp) (4.5.0)\n",
      "Requirement already satisfied: wheel in /home/edwin/.cache/pypoetry/virtualenvs/data-science-research-XyzUro3q-py3.9/lib/python3.9/site-packages (from strip-hints<1,>=0.1.8->kfp) (0.40.0)\n",
      "Collecting google-api-core[grpc]!=2.0.*,!=2.1.*,!=2.2.*,!=2.3.*,!=2.4.*,!=2.5.*,!=2.6.*,!=2.7.*,<3.0.0dev,>=1.32.0\n",
      "  Using cached google_api_core-1.34.0-py3-none-any.whl (120 kB)\n",
      "Requirement already satisfied: google-crc32c<2.0dev,>=1.0 in /home/edwin/.cache/pypoetry/virtualenvs/data-science-research-XyzUro3q-py3.9/lib/python3.9/site-packages (from google-resumable-media>=2.3.2->google-cloud-storage<3,>=1.20.0->kfp) (1.5.0)\n",
      "Requirement already satisfied: pyparsing!=3.0.0,!=3.0.1,!=3.0.2,!=3.0.3,<4,>=2.4.2 in /home/edwin/.cache/pypoetry/virtualenvs/data-science-research-XyzUro3q-py3.9/lib/python3.9/site-packages (from httplib2<1dev,>=0.15.0->google-api-python-client<2,>=1.7.8->kfp) (3.0.9)\n",
      "Requirement already satisfied: pyasn1<0.5.0,>=0.4.6 in /home/edwin/.cache/pypoetry/virtualenvs/data-science-research-XyzUro3q-py3.9/lib/python3.9/site-packages (from pyasn1-modules>=0.2.1->google-auth<3,>=1.6.1->kfp) (0.4.8)\n",
      "Requirement already satisfied: idna<4,>=2.5 in /home/edwin/.cache/pypoetry/virtualenvs/data-science-research-XyzUro3q-py3.9/lib/python3.9/site-packages (from requests<3.0.0dev,>=2.18.0->google-api-core!=2.0.*,!=2.1.*,!=2.2.*,!=2.3.0,<3.0.0dev,>=1.31.5->kfp) (3.4)\n",
      "Requirement already satisfied: charset-normalizer<4,>=2 in /home/edwin/.cache/pypoetry/virtualenvs/data-science-research-XyzUro3q-py3.9/lib/python3.9/site-packages (from requests<3.0.0dev,>=2.18.0->google-api-core!=2.0.*,!=2.1.*,!=2.2.*,!=2.3.0,<3.0.0dev,>=1.31.5->kfp) (3.1.0)\n",
      "Requirement already satisfied: oauthlib>=3.0.0 in /home/edwin/.cache/pypoetry/virtualenvs/data-science-research-XyzUro3q-py3.9/lib/python3.9/site-packages (from requests-oauthlib->kubernetes<20,>=8.0.0->kfp) (3.2.2)\n",
      "Installing collected packages: typer, tabulate, strip-hints, pydantic, protobuf, fire, docstring-parser, Deprecated, requests-toolbelt, kfp-server-api, kfp-pipeline-spec, grpcio-status, google-api-core, google-cloud-notebooks, kfp, google-cloud-pipeline-components\n",
      "  Attempting uninstall: protobuf\n",
      "    Found existing installation: protobuf 3.19.4\n",
      "    Uninstalling protobuf-3.19.4:\n",
      "      Successfully uninstalled protobuf-3.19.4\n",
      "  Attempting uninstall: grpcio-status\n",
      "    Found existing installation: grpcio-status 1.48.2\n",
      "    Uninstalling grpcio-status-1.48.2:\n",
      "      Successfully uninstalled grpcio-status-1.48.2\n",
      "  Attempting uninstall: google-api-core\n",
      "    Found existing installation: google-api-core 1.32.0\n",
      "    Uninstalling google-api-core-1.32.0:\n",
      "      Successfully uninstalled google-api-core-1.32.0\n",
      "\u001b[31mERROR: pip's dependency resolver does not currently take into account all the packages that are installed. This behaviour is the source of the following dependency conflicts.\n",
      "tfx 1.12.0 requires google-api-core<1.33, but you have google-api-core 1.34.0 which is incompatible.\n",
      "tensorflow 2.11.1 requires protobuf<3.20,>=3.9.2, but you have protobuf 3.20.3 which is incompatible.\n",
      "tensorflow-serving-api 2.11.1 requires protobuf<3.20,>=3.9.2, but you have protobuf 3.20.3 which is incompatible.\u001b[0m\u001b[31m\n",
      "\u001b[0mSuccessfully installed Deprecated-1.2.13 docstring-parser-0.15 fire-0.5.0 google-api-core-1.34.0 google-cloud-notebooks-1.6.1 google-cloud-pipeline-components-1.0.41 grpcio-status-1.47.0 kfp-1.8.19 kfp-pipeline-spec-0.1.16 kfp-server-api-1.8.5 protobuf-3.20.3 pydantic-1.10.7 requests-toolbelt-0.10.1 strip-hints-0.1.10 tabulate-0.9.0 typer-0.7.0\n",
      "\n",
      "\u001b[1m[\u001b[0m\u001b[34;49mnotice\u001b[0m\u001b[1;39;49m]\u001b[0m\u001b[39;49m A new release of pip is available: \u001b[0m\u001b[31;49m23.0\u001b[0m\u001b[39;49m -> \u001b[0m\u001b[32;49m23.0.1\u001b[0m\n",
      "\u001b[1m[\u001b[0m\u001b[34;49mnotice\u001b[0m\u001b[1;39;49m]\u001b[0m\u001b[39;49m To update, run: \u001b[0m\u001b[32;49mpip install --upgrade pip\u001b[0m\n"
     ]
    }
   ],
   "source": [
    "# Install components\n",
    "\n",
    "!pip3 install google-cloud-aiplatform\n",
    "!pip3 install kfp google-cloud-pipeline-components"
   ]
  },
  {
   "cell_type": "code",
   "execution_count": null,
   "id": "3ade32a3",
   "metadata": {},
   "outputs": [],
   "source": [
    "# After installing these packages you'll need to restart the kernel\n",
    "import os\n",
    "if not os.getenv(\"IS_TESTING\"):\n",
    "    # Automatically restart kernel after installs\n",
    "    import IPython\n",
    "    app = IPython.Application.instance()\n",
    "    app.kernel.do_shutdown(True)"
   ]
  },
  {
   "cell_type": "code",
   "execution_count": 1,
   "id": "66d53d16",
   "metadata": {},
   "outputs": [
    {
     "name": "stdout",
     "output_type": "stream",
     "text": [
      "KFP SDK version: 1.8.19\n",
      "google_cloud_pipeline_components version: 1.0.41\n"
     ]
    }
   ],
   "source": [
    "# Finally, check that you have correctly installed the packages. The KFP SDK version\n",
    "!python3 -c \"import kfp; print('KFP SDK version: {}'.format(kfp.__version__))\"\n",
    "!python3 -c \"import google_cloud_pipeline_components; print('google_cloud_pipeline_components version: {}'.format(google_cloud_pipeline_components.__version__))\""
   ]
  },
  {
   "cell_type": "code",
   "execution_count": 53,
   "id": "28e078eb",
   "metadata": {},
   "outputs": [
    {
     "name": "stdout",
     "output_type": "stream",
     "text": [
      "Project ID: kamal-anidine-dev\n"
     ]
    }
   ],
   "source": [
    "# Step 2: Set your project ID and bucket\n",
    "PROJECT_ID = \"[your-project-id]\"\n",
    "# Get your Google Cloud project ID from gcloud\n",
    "if PROJECT_ID == \"\" or PROJECT_ID is None or PROJECT_ID == \"[your-project-id]\":\n",
    "    # Get your GCP project id from gcloud\n",
    "    shell_output = !gcloud config list --format 'value(core.project)' 2>/dev/null\n",
    "    PROJECT_ID = shell_output[0]\n",
    "    print(\"Project ID:\", PROJECT_ID)"
   ]
  },
  {
   "cell_type": "code",
   "execution_count": 54,
   "id": "9a4a82b7",
   "metadata": {},
   "outputs": [],
   "source": [
    "PROJECT_REGION = \"[your-region]\"  # @param {type: \"string\"}\n",
    "if PROJECT_REGION == \"[your-region]\":\n",
    "    PROJECT_REGION = \"us-central1\""
   ]
  },
  {
   "cell_type": "code",
   "execution_count": 55,
   "id": "5d39035d",
   "metadata": {},
   "outputs": [
    {
     "data": {
      "text/plain": [
       "'gs://aip-kamal-anidine-dev-aip'"
      ]
     },
     "execution_count": 55,
     "metadata": {},
     "output_type": "execute_result"
    }
   ],
   "source": [
    "BUCKET_URI = f\"gs://aip-{PROJECT_ID}-aip\"\n",
    "GENERATE_BUCKET_URI = False  # @param {type:\"boolean\"}\n",
    "\n",
    "\n",
    "if GENERATE_BUCKET_URI:\n",
    "    bucket_name = \"gs://aip-{}\".format(PROJECT_ID)\n",
    "    !gsutil mb -p {PROJECT_ID} -l {REGION} {bucket_name}\n",
    "\n",
    "    # set GCS bucket object TTL to 7 days\n",
    "    !echo '{\"rule\":[{\"action\": {\"type\": \"Delete\"},\"condition\": {\"age\": 7}}]}' > gcs_lifecycle.tmp\n",
    "    !gsutil lifecycle set gcs_lifecycle.tmp {bucket_name}\n",
    "    !rm gcs_lifecycle.tmp\n",
    "\n",
    "    BUCKET_URI = bucket_name\n",
    "    print(f\"changed BUCKET_URI to {BUCKET_URI} due to GENERATE_BUCKET_URI is True\")\n",
    "\n",
    "if BUCKET_URI == \"\" or BUCKET_URI is None or BUCKET_URI == \"gs://[your-bucket-name]\":\n",
    "    BUCKET_URI = f\"gs://aip-{PROJECT_ID}\"\n",
    "BUCKET_URI"
   ]
  },
  {
   "attachments": {},
   "cell_type": "markdown",
   "id": "ef3eaf24",
   "metadata": {},
   "source": [
    "### Import libraries\n"
   ]
  },
  {
   "cell_type": "code",
   "execution_count": 56,
   "id": "ebdcaa03",
   "metadata": {},
   "outputs": [],
   "source": [
    "from typing import NamedTuple\n",
    "import kfp\n",
    "from kfp import dsl\n",
    "from kfp.v2 import compiler\n",
    "from kfp.v2.dsl import component"
   ]
  },
  {
   "attachments": {},
   "cell_type": "markdown",
   "id": "8c8fd40d",
   "metadata": {},
   "source": [
    "### Creating your first pipeline\n",
    "Create a short pipeline using the KFP SDK. This pipeline doesn't do anything ML related (don't worry, you'll get there!), this exercise is to teach you:\n",
    "\n",
    "How to create custom components in the KFP SDK\n",
    "How to run and monitor a pipeline in Vertex Pipelines\n",
    "You'll create a pipeline that prints out a sentence using two outputs: a product name and an emoji description. This pipeline will consist of three components:\n",
    "\n",
    "- product_name: This component will take a product name as input, and return that string as output.\n",
    "\n",
    "- emoji: This component will take the text description of an emoji and convert it to an emoji. For example, the text code for ✨ is \"sparkles\". This component uses an emoji library to show you how to manage external dependencies in your pipeline.\n",
    "\n",
    "- build_sentence: This final component will consume the output of the previous two to build a sentence that uses the emoji. For example, the resulting output might be \"Vertex Pipelines is ✨"
   ]
  },
  {
   "cell_type": "code",
   "execution_count": 57,
   "id": "b03b859a",
   "metadata": {},
   "outputs": [],
   "source": [
    "output_file =  \"tmp/first-component.yaml\"\n",
    "@component(base_image=\"python:3.9\", output_component_file=output_file)\n",
    "def product_name(text: str) -> str:\n",
    "    return text\n",
    "\n",
    "product_name_component = kfp.components.load_component_from_file(output_file)"
   ]
  },
  {
   "cell_type": "code",
   "execution_count": 58,
   "id": "888f1917",
   "metadata": {},
   "outputs": [],
   "source": [
    "@component(packages_to_install=[\"emoji\"])\n",
    "def emoji( text: str) -> NamedTuple(\"Outputs\", [(\"emoji_text\", str), (\"emoji\", str)]):\n",
    "    import emoji\n",
    "    emoji_text = text\n",
    "    emoji_str = emoji.emojize(':' + emoji_text + ':', language='alias')\n",
    "    print(\"output one: {}; output_two: {}\".format(emoji_text, emoji_str))\n",
    "    return (emoji_text, emoji_str)"
   ]
  },
  {
   "cell_type": "code",
   "execution_count": 59,
   "id": "c87e2ae2",
   "metadata": {},
   "outputs": [],
   "source": [
    "@component\n",
    "def build_sentence(product: str, emoji: str, emojitext: str) -> str:\n",
    "    print(\"We completed the pipeline, hooray!\")\n",
    "    end_str = product + \" is \"\n",
    "    if len(emoji) > 0:\n",
    "        end_str += emoji\n",
    "    else:\n",
    "        end_str += emojitext\n",
    "    return(end_str)"
   ]
  },
  {
   "attachments": {},
   "cell_type": "markdown",
   "id": "4d2cb31d",
   "metadata": {},
   "source": [
    "### Putting the components together into a pipeline\n",
    "The component definitions defined above created factory functions that can be used in a pipeline definition to create steps.\n",
    "\n",
    "To set up a pipeline, use the @dsl.pipeline decorator, give the pipeline a name and description, and provide the root path where your pipeline's artifacts should be written. By artifacts, it means any output files generated by your pipeline. This intro pipeline doesn't generate any, but your next pipeline will.\n",
    "\n",
    "In the next block of code you define an intro_pipeline function. This is where you specify the inputs to your initial pipeline steps, and how steps connect to each other:\n",
    "\n",
    "product_task takes a product name as input. Here you're passing \"Vertex Pipelines\" but you can change this to whatever you'd like.\n",
    "\n",
    "emoji_task takes the text code for an emoji as input. You can also change this to whatever you'd like. For example, \"party_face\" refers to the 🥳 emoji. Note that since both this and the product_task component don't have any steps that feed input into them, you manually specify the input for these when you define your pipeline.\n",
    "\n",
    "The last step in the pipeline - consumer_task has three input parameters:\n",
    "\n",
    "The output of product_task. Since this step only produces one output, you can reference it via product_task.output.\n",
    "The emoji output of the emoji_task step. See the emoji component defined above where you named the output parameters.\n",
    "Similarly, the emoji_text named output from the emoji component. In case your pipeline is passed text that doesn't correspond with an emoji, it'll use this text to construct a sentence."
   ]
  },
  {
   "cell_type": "code",
   "execution_count": 60,
   "id": "4cf65a18",
   "metadata": {},
   "outputs": [
    {
     "data": {
      "text/plain": [
       "'gs://aip-kamal-anidine-dev-aip/pipeline_root/'"
      ]
     },
     "execution_count": 60,
     "metadata": {},
     "output_type": "execute_result"
    }
   ],
   "source": [
    "PIPELINE_ROOT = f\"{BUCKET_URI}/pipeline_root/\"\n",
    "PIPELINE_ROOT"
   ]
  },
  {
   "cell_type": "code",
   "execution_count": 61,
   "id": "0b7eb19a",
   "metadata": {},
   "outputs": [],
   "source": [
    "@dsl.pipeline(\n",
    "    name=\"hello-world\",\n",
    "    description=\"An intro pipeline\",\n",
    ")\n",
    "# You can change the `text` and `emoji_str` parameters here to update the pipeline output\n",
    "def pipeline(text: str = \"Vertex Pipelines\", emoji_str: str = \"sparkles\"):\n",
    "    product_task = product_name(text)\n",
    "    emoji_task = emoji(emoji_str)\n",
    "    _ = build_sentence(\n",
    "        product_task.output,\n",
    "        emoji_task.outputs[\"emoji\"],\n",
    "        emoji_task.outputs[\"emoji_text\"],\n",
    "    )\n",
    "\n",
    "compiler.Compiler().compile(\n",
    "    pipeline_func=pipeline, \n",
    "    package_path=\"tmp/intro_pipeline_job.json\"\n",
    ")"
   ]
  },
  {
   "cell_type": "code",
   "execution_count": 63,
   "id": "2ae7d0ce",
   "metadata": {},
   "outputs": [
    {
     "name": "stdout",
     "output_type": "stream",
     "text": [
      "Creating PipelineJob\n",
      "PipelineJob created. Resource name: projects/1052232325248/locations/us-central1/pipelineJobs/hello-world-20230404143035\n",
      "To use this PipelineJob in another session:\n",
      "pipeline_job = aiplatform.PipelineJob.get('projects/1052232325248/locations/us-central1/pipelineJobs/hello-world-20230404143035')\n",
      "View Pipeline Job:\n",
      "https://console.cloud.google.com/vertex-ai/locations/us-central1/pipelines/runs/hello-world-20230404143035?project=1052232325248\n"
     ]
    }
   ],
   "source": [
    "import google.cloud.aiplatform as aip\n",
    "# Before initializing, make sure to set the GOOGLE_APPLICATION_CREDENTIALS\n",
    "# environment variable to the file path of your service account.\n",
    "aip.init(project=PROJECT_ID, location=PROJECT_REGION)\n",
    "job = aip.PipelineJob(\n",
    "    display_name=\"intro_pipeline_job\",\n",
    "    template_path=\"tmp/intro_pipeline_job.json\",\n",
    "    pipeline_root=PIPELINE_ROOT,\n",
    ")\n",
    "\n",
    "job.submit()"
   ]
  },
  {
   "cell_type": "markdown",
   "id": "a7a85b42",
   "metadata": {},
   "source": []
  }
 ],
 "metadata": {
  "kernelspec": {
   "display_name": "data-science-research-XyzUro3q-py3.9",
   "language": "python",
   "name": "python3"
  },
  "language_info": {
   "codemirror_mode": {
    "name": "ipython",
    "version": 3
   },
   "file_extension": ".py",
   "mimetype": "text/x-python",
   "name": "python",
   "nbconvert_exporter": "python",
   "pygments_lexer": "ipython3",
   "version": "3.9.7"
  },
  "vscode": {
   "interpreter": {
    "hash": "4d64233ef496e27adda18c9013bba942dfebf360eb2fd79c82dd8d4422c2662f"
   }
  }
 },
 "nbformat": 4,
 "nbformat_minor": 5
}
