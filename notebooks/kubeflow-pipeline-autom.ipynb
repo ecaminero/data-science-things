{
 "cells": [
  {
   "attachments": {},
   "cell_type": "markdown",
   "id": "33abccfd",
   "metadata": {},
   "source": [
    "# kubeflow pipeline With Custom Pipeline"
   ]
  },
  {
   "cell_type": "code",
   "execution_count": 2,
   "id": "cea4d6ed",
   "metadata": {},
   "outputs": [],
   "source": [
    "# Install components\n",
    "\n",
    "!pip3 install -q google-cloud-aiplatform\n",
    "!pip3 install -q  kfp google-cloud-pipeline-components"
   ]
  },
  {
   "cell_type": "code",
   "execution_count": null,
   "id": "3ade32a3",
   "metadata": {},
   "outputs": [],
   "source": [
    "# After installing these packages you'll need to restart the kernel\n",
    "import os\n",
    "if not os.getenv(\"IS_TESTING\"):\n",
    "    # Automatically restart kernel after installs\n",
    "    import IPython\n",
    "    app = IPython.Application.instance()\n",
    "    app.kernel.do_shutdown(True)"
   ]
  },
  {
   "cell_type": "code",
   "execution_count": null,
   "id": "abea1bd7",
   "metadata": {},
   "outputs": [],
   "source": []
  },
  {
   "cell_type": "code",
   "execution_count": 3,
   "id": "66d53d16",
   "metadata": {},
   "outputs": [
    {
     "name": "stdout",
     "output_type": "stream",
     "text": [
      "KFP SDK version: 1.8.19\n",
      "google_cloud_pipeline_components version: 1.0.41\n"
     ]
    }
   ],
   "source": [
    "# Finally, check that you have correctly installed the packages. The KFP SDK version\n",
    "!python3 -c \"import kfp; print('KFP SDK version: {}'.format(kfp.__version__))\"\n",
    "!python3 -c \"import google_cloud_pipeline_components; print('google_cloud_pipeline_components version: {}'.format(google_cloud_pipeline_components.__version__))\""
   ]
  },
  {
   "cell_type": "code",
   "execution_count": 24,
   "id": "6b9381f0",
   "metadata": {},
   "outputs": [],
   "source": [
    "import random\n",
    "import string\n",
    "\n",
    "# Generate a uuid of a specifed length(default=8)\n",
    "def generate_uuid(length: int = 8) -> str:\n",
    "    return \"\".join(random.choices(string.ascii_lowercase + string.digits, k=length))\n",
    "\n",
    "\n",
    "UUID = generate_uuid()"
   ]
  },
  {
   "cell_type": "code",
   "execution_count": 25,
   "id": "28e078eb",
   "metadata": {},
   "outputs": [],
   "source": [
    "PROJECT_ID = \"[your-project-id]\"\n",
    "# Get your Google Cloud project ID from gcloud\n",
    "if PROJECT_ID == \"\" or PROJECT_ID is None or PROJECT_ID == \"[your-project-id]\":\n",
    "    # Get your GCP project id from gcloud\n",
    "    shell_output = !gcloud config list --format 'value(core.project)' 2>/dev/null\n",
    "    PROJECT_ID = shell_output[0]\n",
    "\n",
    "# Setting Region\n",
    "PROJECT_REGION = \"[your-region]\"  # @param {type: \"string\"}\n",
    "if PROJECT_REGION == \"[your-region]\":\n",
    "    PROJECT_REGION = \"us-central1\"\n"
   ]
  },
  {
   "cell_type": "code",
   "execution_count": 26,
   "id": "9a4a82b7",
   "metadata": {},
   "outputs": [],
   "source": [
    "# Setting Bucket \n",
    "BUCKET_URI = f\"gs://aip-{PROJECT_ID}-aip\"\n",
    "GENERATE_BUCKET_URI = False  # @param {type:\"boolean\"}\n",
    "\n",
    "\n",
    "if GENERATE_BUCKET_URI:\n",
    "    bucket_name = \"gs://aip-{}\".format(PROJECT_ID)\n",
    "    !gsutil mb -p {PROJECT_ID} -l {REGION} {bucket_name}\n",
    "\n",
    "    # set GCS bucket object TTL to 7 days\n",
    "    !echo '{\"rule\":[{\"action\": {\"type\": \"Delete\"},\"condition\": {\"age\": 7}}]}' > gcs_lifecycle.tmp\n",
    "    !gsutil lifecycle set gcs_lifecycle.tmp {bucket_name}\n",
    "    !rm gcs_lifecycle.tmp\n",
    "\n",
    "    BUCKET_URI = bucket_name\n",
    "    print(f\"changed BUCKET_URI to {BUCKET_URI} due to GENERATE_BUCKET_URI is True\")\n",
    "\n",
    "if BUCKET_URI == \"\" or BUCKET_URI is None or BUCKET_URI == \"gs://[your-bucket-name]\":\n",
    "    BUCKET_URI = f\"gs://aip-{PROJECT_ID}\""
   ]
  },
  {
   "cell_type": "code",
   "execution_count": 27,
   "id": "5d39035d",
   "metadata": {},
   "outputs": [],
   "source": [
    "# Setup up the following constants for Vertex AI Pipelines:\n",
    "PIPELINE_ROOT = \"{}/pipeline_root/flowers\".format(BUCKET_URI)\n",
    "PACKAGE_PATH = \"tmp/custom training pipeline.json\".replace(\" \", \"_\")"
   ]
  },
  {
   "attachments": {},
   "cell_type": "markdown",
   "id": "ef3eaf24",
   "metadata": {},
   "source": [
    "### Import libraries\n"
   ]
  },
  {
   "cell_type": "code",
   "execution_count": 28,
   "id": "ebdcaa03",
   "metadata": {},
   "outputs": [],
   "source": [
    "import os\n",
    "import kfp\n",
    "import google.cloud.aiplatform as aip\n",
    "from kfp.v2 import compiler\n",
    "from typing import Any, Dict, List\n"
   ]
  },
  {
   "attachments": {},
   "cell_type": "markdown",
   "id": "8c8fd40d",
   "metadata": {},
   "source": [
    "### Creating Custom model\n",
    "consider a pipeline with the following steps:\n",
    "\n",
    "* Ingest data: This step loads training data into the pipeline.\n",
    "* Preprocess data: This step preprocesses the ingested training data.\n",
    "* Train model: This step uses the preprocessed training data to train a model.\n",
    "* Evaluate model: This step evaluates the trained model.\n",
    "* Deploy: This step deploys the trained model for predictions."
   ]
  },
  {
   "attachments": {},
   "cell_type": "markdown",
   "id": "481a78c8",
   "metadata": {},
   "source": [
    "### Initialize Vertex AI SDK for Python\n",
    "Initialize the Vertex AI SDK for Python for your project and corresponding bucket.\n",
    "\n"
   ]
  },
  {
   "cell_type": "code",
   "execution_count": 29,
   "id": "3455128d",
   "metadata": {},
   "outputs": [],
   "source": [
    "aip.init(project=PROJECT_ID, staging_bucket=BUCKET_URI)"
   ]
  },
  {
   "cell_type": "code",
   "execution_count": 1,
   "id": "b03b859a",
   "metadata": {},
   "outputs": [
    {
     "ename": "NameError",
     "evalue": "name 'kfp' is not defined",
     "output_type": "error",
     "traceback": [
      "\u001b[0;31m---------------------------------------------------------------------------\u001b[0m",
      "\u001b[0;31mNameError\u001b[0m                                 Traceback (most recent call last)",
      "\u001b[0;32m/tmp/ipykernel_57853/146566414.py\u001b[0m in \u001b[0;36m<cell line: 3>\u001b[0;34m()\u001b[0m\n\u001b[1;32m      1\u001b[0m \u001b[0;31m# Create and deploy an Custom image classification Model resource using a Dataset resource.\u001b[0m\u001b[0;34m\u001b[0m\u001b[0;34m\u001b[0m\u001b[0m\n\u001b[1;32m      2\u001b[0m \u001b[0;34m\u001b[0m\u001b[0m\n\u001b[0;32m----> 3\u001b[0;31m \u001b[0;34m@\u001b[0m\u001b[0mkfp\u001b[0m\u001b[0;34m.\u001b[0m\u001b[0mdsl\u001b[0m\u001b[0;34m.\u001b[0m\u001b[0mpipeline\u001b[0m\u001b[0;34m(\u001b[0m\u001b[0mname\u001b[0m\u001b[0;34m=\u001b[0m\u001b[0;34m\"automl-image-training-v2\"\u001b[0m\u001b[0;34m)\u001b[0m\u001b[0;34m\u001b[0m\u001b[0;34m\u001b[0m\u001b[0m\n\u001b[0m\u001b[1;32m      4\u001b[0m \u001b[0;32mdef\u001b[0m \u001b[0mpipeline\u001b[0m\u001b[0;34m(\u001b[0m\u001b[0mproject\u001b[0m\u001b[0;34m:\u001b[0m \u001b[0mstr\u001b[0m \u001b[0;34m=\u001b[0m \u001b[0mPROJECT_ID\u001b[0m\u001b[0;34m,\u001b[0m \u001b[0mregion\u001b[0m\u001b[0;34m:\u001b[0m \u001b[0mstr\u001b[0m \u001b[0;34m=\u001b[0m \u001b[0mPROJECT_REGION\u001b[0m\u001b[0;34m)\u001b[0m\u001b[0;34m:\u001b[0m\u001b[0;34m\u001b[0m\u001b[0;34m\u001b[0m\u001b[0m\n\u001b[1;32m      5\u001b[0m     \u001b[0;32mfrom\u001b[0m \u001b[0mgoogle_cloud_pipeline_components\u001b[0m \u001b[0;32mimport\u001b[0m \u001b[0maiplatform\u001b[0m \u001b[0;32mas\u001b[0m \u001b[0mgcc_aip\u001b[0m\u001b[0;34m\u001b[0m\u001b[0;34m\u001b[0m\u001b[0m\n",
      "\u001b[0;31mNameError\u001b[0m: name 'kfp' is not defined"
     ]
    }
   ],
   "source": [
    "# Create and deploy an Custom image classification Model resource using a Dataset resource.\n",
    "\n",
    "@kfp.dsl.pipeline(name=\"automl-image-training-v2\")\n",
    "def pipeline(project: str = PROJECT_ID, region: str = PROJECT_REGION):\n",
    "    from google_cloud_pipeline_components import aiplatform as gcc_aip\n",
    "    from google_cloud_pipeline_components.v1.endpoint import (EndpointCreateOp,\n",
    "                                                              ModelDeployOp)\n",
    "\n",
    "    ds_op = gcc_aip.ImageDatasetCreateOp(\n",
    "        project=project,\n",
    "        display_name=\"flowers\",\n",
    "        gcs_source=\"gs://cloud-samples-data/vision/automl_classification/flowers/all_data_v2.csv\",\n",
    "        import_schema_uri=aip.schema.dataset.ioformat.image.single_label_classification,\n",
    "    )\n",
    "\n",
    "    training_job_run_op = gcc_aip.AutoMLImageTrainingJobRunOp(\n",
    "        project=project,\n",
    "        display_name=\"train-automl-flowers\",\n",
    "        prediction_type=\"classification\",\n",
    "        model_type=\"CLOUD\",\n",
    "        dataset=ds_op.outputs[\"dataset\"],\n",
    "        model_display_name=\"train-automl-flowers\",\n",
    "        training_fraction_split=0.6,\n",
    "        validation_fraction_split=0.2,\n",
    "        test_fraction_split=0.2,\n",
    "        budget_milli_node_hours=8000,\n",
    "    )\n",
    "\n",
    "    endpoint_op = EndpointCreateOp(\n",
    "        project=project,\n",
    "        location=region,\n",
    "        display_name=\"train-automl-flowers\",\n",
    "    )\n",
    "\n",
    "    ModelDeployOp(\n",
    "        model=training_job_run_op.outputs[\"model\"],\n",
    "        endpoint=endpoint_op.outputs[\"endpoint\"],\n",
    "        automatic_resources_min_replica_count=1,\n",
    "        automatic_resources_max_replica_count=1,\n",
    "    )"
   ]
  },
  {
   "cell_type": "code",
   "execution_count": null,
   "id": "888f1917",
   "metadata": {},
   "outputs": [
    {
     "name": "stderr",
     "output_type": "stream",
     "text": [
      "/home/edwin/.cache/pypoetry/virtualenvs/data-science-research-XyzUro3q-py3.9/lib/python3.9/site-packages/kfp/v2/compiler/compiler.py:1290: FutureWarning: APIs imported from the v1 namespace (e.g. kfp.dsl, kfp.components, etc) will not be supported by the v2 compiler since v2.0.0\n",
      "  warnings.warn(\n"
     ]
    }
   ],
   "source": [
    "# Compile the pipeline\n",
    "compiler.Compiler().compile(\n",
    "    pipeline_func=pipeline,\n",
    "    package_path=PACKAGE_PATH\n",
    ")"
   ]
  },
  {
   "cell_type": "code",
   "execution_count": null,
   "id": "4cf65a18",
   "metadata": {},
   "outputs": [
    {
     "name": "stdout",
     "output_type": "stream",
     "text": [
      "Creating PipelineJob\n",
      "PipelineJob created. Resource name: projects/1052232325248/locations/us-central1/pipelineJobs/automl-image-training-v2-20230404165859\n",
      "To use this PipelineJob in another session:\n",
      "pipeline_job = aiplatform.PipelineJob.get('projects/1052232325248/locations/us-central1/pipelineJobs/automl-image-training-v2-20230404165859')\n",
      "View Pipeline Job:\n",
      "https://console.cloud.google.com/vertex-ai/locations/us-central1/pipelines/runs/automl-image-training-v2-20230404165859?project=1052232325248\n",
      "PipelineJob projects/1052232325248/locations/us-central1/pipelineJobs/automl-image-training-v2-20230404165859 current state:\n",
      "PipelineState.PIPELINE_STATE_RUNNING\n",
      "PipelineJob projects/1052232325248/locations/us-central1/pipelineJobs/automl-image-training-v2-20230404165859 current state:\n",
      "PipelineState.PIPELINE_STATE_RUNNING\n",
      "PipelineJob projects/1052232325248/locations/us-central1/pipelineJobs/automl-image-training-v2-20230404165859 current state:\n",
      "PipelineState.PIPELINE_STATE_RUNNING\n",
      "PipelineJob projects/1052232325248/locations/us-central1/pipelineJobs/automl-image-training-v2-20230404165859 current state:\n",
      "PipelineState.PIPELINE_STATE_RUNNING\n",
      "PipelineJob projects/1052232325248/locations/us-central1/pipelineJobs/automl-image-training-v2-20230404165859 current state:\n",
      "PipelineState.PIPELINE_STATE_RUNNING\n",
      "PipelineJob projects/1052232325248/locations/us-central1/pipelineJobs/automl-image-training-v2-20230404165859 current state:\n",
      "PipelineState.PIPELINE_STATE_RUNNING\n"
     ]
    }
   ],
   "source": [
    "# Run the pipeline\n",
    "DISPLAY_NAME = \"flowers_\" + UUID\n",
    "\n",
    "job = aip.PipelineJob(\n",
    "    display_name=DISPLAY_NAME,\n",
    "    template_path=PACKAGE_PATH,\n",
    "    pipeline_root=PIPELINE_ROOT,\n",
    "    enable_caching=False,\n",
    ")\n",
    "\n",
    "job.run()\n"
   ]
  },
  {
   "cell_type": "markdown",
   "id": "a7a85b42",
   "metadata": {},
   "source": []
  }
 ],
 "metadata": {
  "kernelspec": {
   "display_name": "data-science-research-XyzUro3q-py3.9",
   "language": "python",
   "name": "python3"
  },
  "language_info": {
   "codemirror_mode": {
    "name": "ipython",
    "version": 3
   },
   "file_extension": ".py",
   "mimetype": "text/x-python",
   "name": "python",
   "nbconvert_exporter": "python",
   "pygments_lexer": "ipython3",
   "version": "3.9.7"
  },
  "vscode": {
   "interpreter": {
    "hash": "4d64233ef496e27adda18c9013bba942dfebf360eb2fd79c82dd8d4422c2662f"
   }
  }
 },
 "nbformat": 4,
 "nbformat_minor": 5
}
